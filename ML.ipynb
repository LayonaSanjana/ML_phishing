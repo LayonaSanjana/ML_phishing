{
 "cells": [
  {
   "cell_type": "code",
   "execution_count": 2,
   "id": "ec5f2d80",
   "metadata": {},
   "outputs": [
    {
     "name": "stdout",
     "output_type": "stream",
     "text": [
      "Class distribution before undersampling:\n",
      "Counter({1: 5541, -1: 4408})\n"
     ]
    }
   ],
   "source": [
    "import pandas as pd\n",
    "from sklearn.model_selection import train_test_split\n",
    "from collections import Counter\n",
    "from imblearn.under_sampling import RandomUnderSampler\n",
    "\n",
    "\n",
    "df = pd.read_csv(\"uci-ml-phishing-dataset.csv\")\n",
    "df = df.drop(columns=['id'])\n",
    "\n",
    "\n",
    "X = df.drop(columns=['Result'])  # All columns except the target\n",
    "y = df['Result']  # Target column\n",
    "\n",
    "\n",
    "X_train, X_test, y_train, y_test = train_test_split(X, y, test_size=0.1, stratify=y, random_state=42)\n",
    "\n",
    "print(\"Class distribution before undersampling:\")\n",
    "print(Counter(y_train))  # Check imbalance in training set"
   ]
  },
  {
   "cell_type": "code",
   "execution_count": 3,
   "id": "4b9c2dfc",
   "metadata": {},
   "outputs": [
    {
     "name": "stdout",
     "output_type": "stream",
     "text": [
      "\n",
      "Class distribution after undersampling:\n",
      "Counter({-1: 4408, 1: 4408})\n"
     ]
    }
   ],
   "source": [
    "# Apply Random Undersampling only on training set\n",
    "undersample = RandomUnderSampler(sampling_strategy='auto', random_state=42)\n",
    "X_resampled, y_resampled = undersample.fit_resample(X_train, y_train)\n",
    "\n",
    "print(\"\\nClass distribution after undersampling:\")\n",
    "print(Counter(y_resampled))  # Verify class balance"
   ]
  },
  {
   "cell_type": "code",
   "execution_count": 4,
   "id": "57470f12",
   "metadata": {},
   "outputs": [
    {
     "name": "stdout",
     "output_type": "stream",
     "text": [
      "Top 16 Selected Features: Index(['having_IP_Address', 'Prefix_Suffix', 'having_Sub_Domain',\n",
      "       'SSLfinal_State', 'Domain_registeration_length', 'Request_URL',\n",
      "       'URL_of_Anchor', 'Links_in_tags', 'SFH', 'Submitting_to_email',\n",
      "       'age_of_domain', 'DNSRecord', 'web_traffic', 'Page_Rank',\n",
      "       'Google_Index', 'Links_pointing_to_page'],\n",
      "      dtype='object')\n"
     ]
    }
   ],
   "source": [
    "import pandas as pd\n",
    "from sklearn.feature_selection import RFE\n",
    "from sklearn.ensemble import RandomForestClassifier\n",
    "from sklearn.model_selection import train_test_split\n",
    "\n",
    "# Initialize Random Forest model\n",
    "rf = RandomForestClassifier(n_estimators=100, random_state=42)\n",
    "\n",
    "# Apply RFE to select top 16 features\n",
    "rfe = RFE(estimator=rf, n_features_to_select=16)\n",
    "rfe.fit(X_resampled, y_resampled)\n",
    "\n",
    "# Get selected features\n",
    "selected_features = X.columns[rfe.support_]\n",
    "print(\"Top 16 Selected Features:\", selected_features)"
   ]
  },
  {
   "cell_type": "code",
   "execution_count": 5,
   "id": "545ce6a1",
   "metadata": {},
   "outputs": [],
   "source": [
    "X_train_selected = X_resampled[selected_features] \n",
    "X_test_selected = X_test[selected_features]"
   ]
  },
  {
   "cell_type": "code",
   "execution_count": 6,
   "id": "09885599",
   "metadata": {},
   "outputs": [
    {
     "name": "stdout",
     "output_type": "stream",
     "text": [
      "Random Forest Accuracy: 97.83%\n",
      "Random Forest Classification Report:\n",
      "               precision    recall  f1-score   support\n",
      "\n",
      "          -1       0.98      0.98      0.98       490\n",
      "           1       0.98      0.98      0.98       616\n",
      "\n",
      "    accuracy                           0.98      1106\n",
      "   macro avg       0.98      0.98      0.98      1106\n",
      "weighted avg       0.98      0.98      0.98      1106\n",
      "\n",
      "Model successfully saved to random_forest_model.pkl\n"
     ]
    }
   ],
   "source": [
    "from sklearn.ensemble import RandomForestClassifier\n",
    "from sklearn.metrics import accuracy_score, classification_report\n",
    "\n",
    "# Initialize and train Random Forest model\n",
    "rf_model = RandomForestClassifier(n_estimators=100, random_state=42,min_samples_leaf=1,min_samples_split=2 )\n",
    "rf_model.fit(X_train_selected, y_resampled)\n",
    "\n",
    "# Make predictions\n",
    "rf_predictions = rf_model.predict(X_test_selected)\n",
    "\n",
    "# Evaluate model\n",
    "rf_accuracy = accuracy_score(y_test, rf_predictions)\n",
    "rf_report = classification_report(y_test, rf_predictions)\n",
    "\n",
    "print(f\"Random Forest Accuracy: {rf_accuracy * 100:.2f}%\")\n",
    "print(\"Random Forest Classification Report:\\n\", rf_report)\n",
    "\n",
    "import pickle\n",
    "\n",
    "# The name of the file you want to save your model to\n",
    "filename = 'random_forest_model.pkl'\n",
    "\n",
    "# Use a 'with' statement to open the file in write-binary mode ('wb')\n",
    "with open(filename, 'wb') as file:\n",
    "    # Use pickle.dump() to write the RF_model object to the file\n",
    "    pickle.dump(rf_model, file)\n",
    "\n",
    "print(f\"Model successfully saved to {filename}\")"
   ]
  },
  {
   "cell_type": "code",
   "execution_count": null,
   "id": "31682ca9",
   "metadata": {},
   "outputs": [],
   "source": []
  }
 ],
 "metadata": {
  "kernelspec": {
   "display_name": "Python 3",
   "language": "python",
   "name": "python3"
  },
  "language_info": {
   "codemirror_mode": {
    "name": "ipython",
    "version": 3
   },
   "file_extension": ".py",
   "mimetype": "text/x-python",
   "name": "python",
   "nbconvert_exporter": "python",
   "pygments_lexer": "ipython3",
   "version": "3.11.2"
  }
 },
 "nbformat": 4,
 "nbformat_minor": 5
}
